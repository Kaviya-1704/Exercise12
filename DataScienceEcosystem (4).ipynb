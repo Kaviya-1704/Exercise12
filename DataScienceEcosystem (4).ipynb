{
  "cells": [
    {
      "cell_type": "markdown",
      "metadata": {
        "id": "ROcaMgsh17Ja"
      },
      "source": [
        "<center>\n",
        "    <img src=\"https://cf-courses-data.s3.us.cloud-object-storage.appdomain.cloud/IBMDeveloperSkillsNetwork-DS0105EN-SkillsNetwork/labs/Module2/images/SN_web_lightmode.png\" width=\"300\" alt=\"cognitiveclass.ai logo\">\n",
        "</center>\n"
      ]
    },
    {
      "cell_type": "markdown",
      "metadata": {
        "id": "V0mZ46pH17Jd"
      },
      "source": [
        "#### Add your code below following the instructions given in the course\n"
      ]
    },
    {
      "cell_type": "markdown",
      "metadata": {
        "id": "P4bR_9BI17Je"
      },
      "source": [
        "# Data Science Tools and Ecosystem"
      ]
    },
    {
      "cell_type": "markdown",
      "metadata": {
        "id": "3ndRnG6n17Je"
      },
      "source": [
        "In this notebook, Data Science Tools and Ecosystem are summarized."
      ]
    },
    {
      "cell_type": "markdown",
      "metadata": {
        "id": "5ejHWXzf17Je"
      },
      "source": [
        "Some of the popular languages that Data Scientists use are:\n",
        "1. Python\n",
        "2. SQL\n",
        "3. R\n"
      ]
    },
    {
      "cell_type": "markdown",
      "metadata": {
        "id": "ZdcDUxXA17Je"
      },
      "source": [
        "Some of the commonly used libraries used by Data Scientists include:\n",
        "1. Keras\n",
        "2. TensorFlow\n",
        "3. Caret\n",
        "4. PyTorch"
      ]
    },
    {
      "cell_type": "markdown",
      "metadata": {
        "id": "BpR-8DAY17Jf"
      },
      "source": [
        "| Data Science Tools |\n",
        "| ------------------ |\n",
        "| Apache Spark       |\n",
        "| Google Colab       |\n",
        "| Jupyter Notebook   |"
      ]
    },
    {
      "cell_type": "markdown",
      "metadata": {
        "tags": [],
        "id": "9f2fVZ-j17Jf"
      },
      "source": [
        "### Below are a few examples of evaluating arithmetic expressions in Python\n"
      ]
    },
    {
      "cell_type": "code",
      "execution_count": null,
      "metadata": {
        "tags": [],
        "id": "nQznEImx17Jf",
        "outputId": "195f5df6-f905-41e0-f9a0-24b0a850ea6e"
      },
      "outputs": [
        {
          "data": {
            "text/plain": [
              "17"
            ]
          },
          "execution_count": 3,
          "metadata": {},
          "output_type": "execute_result"
        }
      ],
      "source": [
        "#This a simple arithmetic expression to mutiply then add integers\n",
        "(3*4)+5"
      ]
    },
    {
      "cell_type": "code",
      "execution_count": null,
      "metadata": {
        "tags": [],
        "id": "1XFbG-Kz17Jg",
        "outputId": "99a10261-06d5-4d87-88f7-e7c21516602d"
      },
      "outputs": [
        {
          "data": {
            "text/plain": [
              "3.3333333333333335"
            ]
          },
          "execution_count": 4,
          "metadata": {},
          "output_type": "execute_result"
        }
      ],
      "source": [
        "#This will convert 200 minutes to hours by diving by 60\n",
        "200/60"
      ]
    },
    {
      "cell_type": "markdown",
      "metadata": {
        "id": "qbwxkbbq17Jh"
      },
      "source": [
        "**Objectives:**\n",
        "    "
      ]
    },
    {
      "cell_type": "markdown",
      "metadata": {
        "tags": [],
        "id": "e9siYKF617Jh"
      },
      "source": [
        "- Python\n",
        "- R\n",
        "- SQL\n",
        "- Scala\n",
        "- Java"
      ]
    },
    {
      "cell_type": "markdown",
      "metadata": {
        "id": "AGHbddZr17Jh"
      },
      "source": [
        "## Author"
      ]
    },
    {
      "cell_type": "markdown",
      "metadata": {
        "id": "vnMBaNW_17Jh"
      },
      "source": [
        "Kaviya V H"
      ]
    },
    {
      "cell_type": "code",
      "execution_count": null,
      "metadata": {
        "id": "TvejqJnX17Ji"
      },
      "outputs": [],
      "source": []
    }
  ],
  "metadata": {
    "kernelspec": {
      "display_name": "Python",
      "language": "python",
      "name": "conda-env-python-py"
    },
    "language_info": {
      "codemirror_mode": {
        "name": "ipython",
        "version": 3
      },
      "file_extension": ".py",
      "mimetype": "text/x-python",
      "name": "python",
      "nbconvert_exporter": "python",
      "pygments_lexer": "ipython3",
      "version": "3.7.12"
    },
    "colab": {
      "provenance": []
    }
  },
  "nbformat": 4,
  "nbformat_minor": 0
}